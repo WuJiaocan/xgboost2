{
 "cells": [
  {
   "cell_type": "markdown",
   "metadata": {},
   "source": [
    "### 1. 加载数据"
   ]
  },
  {
   "cell_type": "code",
   "execution_count": 77,
   "metadata": {},
   "outputs": [],
   "source": [
    "import pandas as pd\n",
    "import numpy as np\n",
    "import calendar\n",
    "import datetime"
   ]
  },
  {
   "cell_type": "code",
   "execution_count": 3,
   "metadata": {},
   "outputs": [
    {
     "name": "stderr",
     "output_type": "stream",
     "text": [
      "/home/wujiaocan/anaconda3/lib/python3.6/site-packages/ipykernel_launcher.py:1: ParserWarning: Falling back to the 'python' engine because the 'c' engine does not support regex separators (separators > 1 char and different from '\\s+' are interpreted as regex); you can avoid this warning by specifying engine='python'.\n",
      "  \"\"\"Entry point for launching an IPython kernel.\n"
     ]
    }
   ],
   "source": [
    "df = pd.read_csv(\"./data/filter_time_data.txt_new\", sep=\"\\t\\t\", header=None)"
   ]
  },
  {
   "cell_type": "code",
   "execution_count": 6,
   "metadata": {},
   "outputs": [],
   "source": [
    "df.columns = ['电影ID', '时间', '当前热度值', '新增热度值', '当前点击量', '新增点击量', '当前评论数', '新增评论数', '当前点赞数', '新增点赞数',\n",
    "              '当前踩数', '新增踩数', '当前评分数', '推广位', '影片推广位等级', '当前小时弹幕数', '当前小时新增弹幕数', '当前小时评分人数',\n",
    "              '当前小时新增评分人数', '当前小时五星评分人数', '当前小时四星评分人数', '当前小时三星评分人数', '当前小时二星评分人数',\n",
    "              '当前小时一星评分人数', '当日爱奇艺播放指数', '影片上线时间', '导演', '编剧', '制片', '美术', '主演']"
   ]
  },
  {
   "cell_type": "code",
   "execution_count": 4,
   "metadata": {},
   "outputs": [
    {
     "data": {
      "text/plain": [
       "(959866, 31)"
      ]
     },
     "execution_count": 4,
     "metadata": {},
     "output_type": "execute_result"
    }
   ],
   "source": [
    "df.shape"
   ]
  },
  {
   "cell_type": "markdown",
   "metadata": {},
   "source": [
    "### 2. 数据探索，补全缺失值"
   ]
  },
  {
   "cell_type": "code",
   "execution_count": 25,
   "metadata": {},
   "outputs": [],
   "source": [
    "# df.isnull().sum().sort_values(ascending=False)"
   ]
  },
  {
   "cell_type": "markdown",
   "metadata": {},
   "source": [
    "##### 当前热度值，用后一个填充；\n",
    "##### 当前小时弹幕数、当前小时新增弹幕数，删除\n",
    "##### 当前小时评分人数，用后一个填充；当前小时新增评分人数，删除\n",
    "##### 当日爱奇艺播放指数，用后一个填充"
   ]
  },
  {
   "cell_type": "code",
   "execution_count": 65,
   "metadata": {},
   "outputs": [
    {
     "data": {
      "text/plain": [
       "1"
      ]
     },
     "execution_count": 65,
     "metadata": {},
     "output_type": "execute_result"
    }
   ],
   "source": [
    "df['当前热度值'].value_counts()[-111111111.0]"
   ]
  },
  {
   "cell_type": "code",
   "execution_count": 57,
   "metadata": {},
   "outputs": [
    {
     "data": {
      "text/plain": [
       "0.4371954001912767"
      ]
     },
     "execution_count": 57,
     "metadata": {},
     "output_type": "execute_result"
    }
   ],
   "source": [
    "# 当前小时弹幕数, '当前小时新增弹幕数'\n",
    "419649 / 959866"
   ]
  },
  {
   "cell_type": "code",
   "execution_count": 61,
   "metadata": {},
   "outputs": [
    {
     "data": {
      "text/plain": [
       "0.28581802043201865"
      ]
     },
     "execution_count": 61,
     "metadata": {},
     "output_type": "execute_result"
    }
   ],
   "source": [
    "# 当前小时评分人数, '当前小时新增评分人数'\n",
    "274347 / 959866"
   ]
  },
  {
   "cell_type": "code",
   "execution_count": 64,
   "metadata": {},
   "outputs": [
    {
     "data": {
      "text/plain": [
       "0.1377421431741514"
      ]
     },
     "execution_count": 64,
     "metadata": {},
     "output_type": "execute_result"
    }
   ],
   "source": [
    "# 当日爱奇艺播放指数\n",
    "132214 / 959866"
   ]
  },
  {
   "cell_type": "code",
   "execution_count": 52,
   "metadata": {},
   "outputs": [
    {
     "name": "stdout",
     "output_type": "stream",
     "text": [
      "当前热度值\n",
      "当前小时弹幕数\n",
      "当前小时新增弹幕数\n",
      "当前小时评分人数\n",
      "当前小时新增评分人数\n",
      "当前小时五星评分人数\n",
      "当前小时四星评分人数\n",
      "当前小时三星评分人数\n",
      "当前小时二星评分人数\n",
      "当前小时一星评分人数\n",
      "当日爱奇艺播放指数\n"
     ]
    }
   ],
   "source": [
    "for col in df.columns:\n",
    "    if -111111111.0 in df[col].unique():\n",
    "        print(col)"
   ]
  },
  {
   "cell_type": "code",
   "execution_count": 67,
   "metadata": {},
   "outputs": [],
   "source": [
    "df['当前热度值'].replace(-111111111.0, np.nan, inplace=True)\n",
    "df['当前热度值'] = df['当前热度值'].fillna(method=\"bfill\")"
   ]
  },
  {
   "cell_type": "code",
   "execution_count": 69,
   "metadata": {},
   "outputs": [],
   "source": [
    "df['当前小时评分人数'].replace(-111111111.0, np.nan, inplace=True)\n",
    "df['当前小时评分人数'] = df['当前小时评分人数'].fillna(method=\"bfill\")"
   ]
  },
  {
   "cell_type": "code",
   "execution_count": 71,
   "metadata": {},
   "outputs": [],
   "source": [
    "df['当日爱奇艺播放指数'].replace(-111111111.0, np.nan, inplace=True)\n",
    "df['当日爱奇艺播放指数'] = df['当日爱奇艺播放指数'].fillna(method=\"bfill\")"
   ]
  },
  {
   "cell_type": "markdown",
   "metadata": {},
   "source": [
    "### 3. 增加特征"
   ]
  },
  {
   "cell_type": "markdown",
   "metadata": {},
   "source": [
    "#### 3.1 增加“time_interval”"
   ]
  },
  {
   "cell_type": "code",
   "execution_count": 18,
   "metadata": {},
   "outputs": [],
   "source": [
    "def get_time_interval(x, y):\n",
    "    '''\n",
    "        获取影片已经上映多久；x:现在时间； y:影片上映时间；\n",
    "    '''\n",
    "    from dateutil.parser import parse\n",
    "    a = parse(x)\n",
    "    b = parse(y)\n",
    "    return (a - b).total_seconds()"
   ]
  },
  {
   "cell_type": "code",
   "execution_count": 19,
   "metadata": {},
   "outputs": [],
   "source": [
    "df['time_interval'] = df.apply(\n",
    "        lambda row: get_time_interval(row['时间'], row['影片上线时间']), axis=1)"
   ]
  },
  {
   "cell_type": "markdown",
   "metadata": {},
   "source": [
    "#### 3.2 高频导演/主演名，与第一次获取的top10的导演名不同，按本次获取的顺序添加新特征"
   ]
  },
  {
   "cell_type": "code",
   "execution_count": 1,
   "metadata": {},
   "outputs": [],
   "source": [
    "#  top_10_directors = ['巴晨旭', '郭靖', '朱锐斌', '潘文杰', '薛少', '褚会林', '唐顺风', '干志文', '房映华', '崔俊杰']\n",
    "#  top_8_actors = ['张伟', '张浩', '李伟', '刘洋', '王伟', '张涛', '张磊', '冯芷墨']"
   ]
  },
  {
   "cell_type": "code",
   "execution_count": 29,
   "metadata": {},
   "outputs": [],
   "source": [
    "def get_each_movie_relevant_name(data, name_type):\n",
    "    '''\n",
    "        按电影ID去重后，获取每所有影片的导演/主演总名单\n",
    "    '''\n",
    "    relevant_name = []\n",
    "    cleaned_relevant_name = []\n",
    "\n",
    "    # 获取每部影片的导演/主演名字，一个或若干个\n",
    "    for movie_id in data['电影ID'].unique():\n",
    "        relevant_name.extend(data[data['电影ID'] == movie_id][name_type].unique().tolist())\n",
    "    # 将某部影片的若干个导演/主演名字，拆开成一个一个\n",
    "    for name_pair in relevant_name:\n",
    "        if name_pair:\n",
    "            if len(str(name_pair).split(\",\")) > 1:\n",
    "                cleaned_relevant_name.extend(name_pair.split(\",\"))\n",
    "            else:\n",
    "                cleaned_relevant_name.append(name_pair)\n",
    "\n",
    "    return cleaned_relevant_name"
   ]
  },
  {
   "cell_type": "code",
   "execution_count": 30,
   "metadata": {},
   "outputs": [],
   "source": [
    "director_names = get_each_movie_relevant_name(df, \"导演\")\n",
    "actor_names = get_each_movie_relevant_name(df, \"主演\")"
   ]
  },
  {
   "cell_type": "code",
   "execution_count": 37,
   "metadata": {},
   "outputs": [],
   "source": [
    "top_10_directors = pd.Series(director_names).value_counts()[:10].index.tolist()\n",
    "top_8_actors = pd.Series(actor_names).value_counts()[:8].index.tolist()"
   ]
  },
  {
   "cell_type": "code",
   "execution_count": 40,
   "metadata": {},
   "outputs": [],
   "source": [
    "for name in top_10_directors + top_8_actors:\n",
    "    df[name] = 0"
   ]
  },
  {
   "cell_type": "code",
   "execution_count": 44,
   "metadata": {},
   "outputs": [],
   "source": [
    "combine_name_number = {}\n",
    "number = -18  # -18取决现在dataframe的列的情况\n",
    "for name in top_10_directors + top_8_actors:\n",
    "    combine_name_number[name] = number\n",
    "    number += 1"
   ]
  },
  {
   "cell_type": "code",
   "execution_count": 45,
   "metadata": {},
   "outputs": [],
   "source": [
    "def transfer0to1(data, name_type, name_list, dic):\n",
    "    '''\n",
    "        将新增特征列中，将属于高频导演/高频主演/推广位的特征，从0转成1\n",
    "        \"name_type\":“导演”或“主演”或“”推广位\n",
    "        \"name_list\": 高频导演/高频主演/推广位的总名单\n",
    "        \"dic\": 新特征列名与数字索引对应的字典\n",
    "    '''\n",
    "    for num, item in enumerate(data[name_type]):\n",
    "\n",
    "        if item and len(str(item).split(\",\")) == 1:\n",
    "            if item in name_list:\n",
    "                data.iloc[num, dic[item]] = 1\n",
    "\n",
    "        if item and len(str(item).split(\",\")) > 1:\n",
    "            for n in item.split(\",\"):\n",
    "                if n in name_list:\n",
    "                    data.iloc[num, dic[n]] = 1\n",
    "                else:\n",
    "                    continue"
   ]
  },
  {
   "cell_type": "code",
   "execution_count": 46,
   "metadata": {},
   "outputs": [],
   "source": [
    "transfer0to1(df, \"导演\", top_10_directors + top_8_actors, combine_name_number)\n",
    "transfer0to1(df, \"主演\", top_10_directors + top_8_actors, combine_name_number)"
   ]
  },
  {
   "cell_type": "markdown",
   "metadata": {},
   "source": [
    "#### 3.3 “is_weekday”判断是否是工作日"
   ]
  },
  {
   "cell_type": "code",
   "execution_count": 74,
   "metadata": {},
   "outputs": [],
   "source": [
    "def get_weekday(x):\n",
    "    '''\n",
    "        将日期转化为对应的星期数\n",
    "    '''\n",
    "    from datetime import datetime\n",
    "    dateString = x.split()[0]\n",
    "    week_day = datetime.strptime(dateString, \"%Y-%m-%d\").weekday()\n",
    "    return calendar.day_name[week_day]"
   ]
  },
  {
   "cell_type": "code",
   "execution_count": 75,
   "metadata": {},
   "outputs": [],
   "source": [
    "def is_weekday(day):\n",
    "    '''\n",
    "    判断是否是工作日,是为1，不是为0。\n",
    "    '''\n",
    "    if day == \"Saturday\" or day == \"Sunday\":\n",
    "        return 0\n",
    "    else:\n",
    "        return 1"
   ]
  },
  {
   "cell_type": "code",
   "execution_count": 78,
   "metadata": {},
   "outputs": [],
   "source": [
    "df['weekday'] = df['时间'].apply(get_weekday)\n",
    "df['is_weekday'] = df['weekday'].apply(is_weekday)"
   ]
  },
  {
   "cell_type": "markdown",
   "metadata": {},
   "source": [
    "#### 3.4. “推广位”进行one-hot编码，从前一天晚上10点多跑到第二天早上10点多，不知为何这么久。"
   ]
  },
  {
   "cell_type": "code",
   "execution_count": 81,
   "metadata": {},
   "outputs": [],
   "source": [
    "def get_each_movie_promotion(data):\n",
    "    promotion = []\n",
    "    for pair in data['推广位'].unique().tolist():\n",
    "        if len(pair.split(\",\")) > 1:\n",
    "            promotion.extend(pair.split(\",\"))\n",
    "        else:\n",
    "            promotion.append(pair)\n",
    "    return set(promotion)"
   ]
  },
  {
   "cell_type": "code",
   "execution_count": 105,
   "metadata": {},
   "outputs": [
    {
     "data": {
      "text/plain": [
       "{'VIP-焦点', 'VIP-电影', '无', '电影-焦点', '电影-电影', '电影-网大', '精选-电影'}"
      ]
     },
     "execution_count": 105,
     "metadata": {},
     "output_type": "execute_result"
    }
   ],
   "source": [
    "get_each_movie_promotion(df)"
   ]
  },
  {
   "cell_type": "code",
   "execution_count": 106,
   "metadata": {},
   "outputs": [],
   "source": [
    "promotion_type = get_each_movie_promotion(df)"
   ]
  },
  {
   "cell_type": "code",
   "execution_count": 135,
   "metadata": {},
   "outputs": [],
   "source": [
    "for name in promotion_type:\n",
    "    df[name] = 0"
   ]
  },
  {
   "cell_type": "code",
   "execution_count": 130,
   "metadata": {},
   "outputs": [],
   "source": [
    "combine_name_number_2 = {}\n",
    "number = -len(promotion_type)\n",
    "for name in promotion_type:\n",
    "    combine_name_number_2[name] = number\n",
    "    number += 1"
   ]
  },
  {
   "cell_type": "code",
   "execution_count": 138,
   "metadata": {},
   "outputs": [],
   "source": [
    "transfer0to1(df, \"推广位\", promotion_type, combine_name_number_2)"
   ]
  },
  {
   "cell_type": "code",
   "execution_count": 155,
   "metadata": {},
   "outputs": [],
   "source": [
    "# df.columns"
   ]
  },
  {
   "cell_type": "code",
   "execution_count": 154,
   "metadata": {},
   "outputs": [],
   "source": [
    "# df['电影-焦点'].unique()"
   ]
  },
  {
   "cell_type": "code",
   "execution_count": 153,
   "metadata": {},
   "outputs": [],
   "source": [
    "# df['推广位'][946195:946395]"
   ]
  },
  {
   "cell_type": "code",
   "execution_count": 152,
   "metadata": {},
   "outputs": [],
   "source": [
    "# df.iloc[946195:946395, -10:]"
   ]
  },
  {
   "cell_type": "markdown",
   "metadata": {},
   "source": [
    "#### 2.5 “week_day”进行one-hot编码，具体到每周第几天，训练特征时，直接用get_dummies，比transfer0to1快很多，如果需要预测新样本时，再transfer0to1"
   ]
  },
  {
   "cell_type": "code",
   "execution_count": 173,
   "metadata": {},
   "outputs": [],
   "source": [
    "for col in pd.get_dummies(df['weekday']).columns:\n",
    "    df[col] = pd.get_dummies(df['weekday'])[col]"
   ]
  },
  {
   "cell_type": "markdown",
   "metadata": {},
   "source": [
    "#### 2.6“推广位等级”进行one-hot编码，推广位等级分类"
   ]
  },
  {
   "cell_type": "code",
   "execution_count": 177,
   "metadata": {},
   "outputs": [],
   "source": [
    "for col in pd.get_dummies(df['影片推广位等级']).columns:\n",
    "    df[col] = pd.get_dummies(df['影片推广位等级'])[col]"
   ]
  },
  {
   "cell_type": "markdown",
   "metadata": {},
   "source": [
    "#### 2.7 时间区间特征"
   ]
  },
  {
   "cell_type": "code",
   "execution_count": 180,
   "metadata": {},
   "outputs": [],
   "source": [
    "def get_hour(x):\n",
    "    '''\n",
    "        用“时间”的时间戳补充新特征小时\"hour\"\n",
    "    '''\n",
    "    return x.split()[1].split(\":\")[0]"
   ]
  },
  {
   "cell_type": "code",
   "execution_count": 181,
   "metadata": {},
   "outputs": [],
   "source": [
    "def get_time_partition(x):\n",
    "    '''\n",
    "        将时间点转化为对应的时间区间\n",
    "    '''\n",
    "    x = int(x)\n",
    "    if x in range(1, 11):   # 1:00-10:00\n",
    "        return 0\n",
    "    if x in range(11, 21):  # 11:00-20:00\n",
    "        return 1\n",
    "    else:                   # 21:00-0:00\n",
    "        return 2"
   ]
  },
  {
   "cell_type": "code",
   "execution_count": 182,
   "metadata": {},
   "outputs": [],
   "source": [
    "df[\"hour\"] = df[\"时间\"].apply(get_hour)\n",
    "df['time_partition'] = df['hour'].apply(get_time_partition)"
   ]
  },
  {
   "cell_type": "code",
   "execution_count": 185,
   "metadata": {},
   "outputs": [],
   "source": [
    "for col in pd.get_dummies(df['time_partition']).columns:\n",
    "    df[col] = pd.get_dummies(df['time_partition'])[col]"
   ]
  },
  {
   "cell_type": "markdown",
   "metadata": {},
   "source": [
    "#### 2.8 “hour”进行one-hot编码"
   ]
  },
  {
   "cell_type": "code",
   "execution_count": 188,
   "metadata": {},
   "outputs": [],
   "source": [
    "for col in pd.get_dummies(df['hour']).columns:\n",
    "    df[col] = pd.get_dummies(df['hour'])[col]"
   ]
  },
  {
   "cell_type": "markdown",
   "metadata": {},
   "source": [
    "#### 2.9  以6为时间窗口，获取每6条“当前热度值”的平均值"
   ]
  },
  {
   "cell_type": "code",
   "execution_count": 193,
   "metadata": {},
   "outputs": [],
   "source": [
    "def MaxMinNormalization(x):\n",
    "    '''\n",
    "        \"当前热度值\"归一化处理，0为该列min,6304为该列max\n",
    "    '''\n",
    "\n",
    "    x = (float(x) - 0) / (6304 - 0)\n",
    "    return x"
   ]
  },
  {
   "cell_type": "code",
   "execution_count": 194,
   "metadata": {},
   "outputs": [],
   "source": [
    "df['当前热度值'] = df['当前热度值'].apply(MaxMinNormalization)"
   ]
  },
  {
   "cell_type": "code",
   "execution_count": 196,
   "metadata": {},
   "outputs": [],
   "source": [
    "if df.shape[0] < 6:\n",
    "    df['heat_value_window_size_6'] = df['当前热度值']\n",
    "else:\n",
    "    new_now_heat_value = []\n",
    "    for i in range(df.shape[0]):\n",
    "        new_now_heat_value.append(df.iloc[i:i + 6, :]['当前热度值'].mean())\n",
    "    for i in range(5):\n",
    "        new_now_heat_value.insert(i, 0)\n",
    "    df['heat_value_window_size_6'] = pd.DataFrame(new_now_heat_value)"
   ]
  },
  {
   "cell_type": "markdown",
   "metadata": {},
   "source": [
    "### 3. 删除无用特征，最后得到76列特征"
   ]
  },
  {
   "cell_type": "code",
   "execution_count": 201,
   "metadata": {},
   "outputs": [],
   "source": [
    "# df.to_csv(\"./data/all_features_df.csv\")"
   ]
  },
  {
   "cell_type": "code",
   "execution_count": 203,
   "metadata": {},
   "outputs": [],
   "source": [
    "del df['电影ID']\n",
    "\n",
    "# 2. 删除缺失值最多的一列“美术”\n",
    "del df['美术']\n",
    "\n",
    "# 3. 删除已经提取出高频名字的“导演”，“主演”\n",
    "del df['导演']\n",
    "del df['主演']\n",
    "\n",
    "# 4. 删除“影片上线时间”，“编剧”，“制片”\n",
    "del df['影片上线时间']\n",
    "del df['编剧']\n",
    "del df['制片']\n",
    "\n",
    "# 5. 删除用0替换“-111111111.0”之后，0项占比过大的“当前弹幕数”和“当前小时新增弹幕数”\n",
    "del df['当前小时弹幕数']\n",
    "del df['当前小时新增弹幕数']\n",
    "\n",
    "# 6. “当前小时评分人数”，用后一位填充；删除“当前小时新增评分人数”\n",
    "# original_df['当前小时评分人数'].replace(-111111111.0, np.nan, inplace=True)\n",
    "# original_df['当前小时评分人数'] = original_df['当前小时评分人数'].fillna(method=\"bfill\")\n",
    "del df['当前小时新增评分人数']\n",
    "\n",
    "# 7. 删除'当前小时一星评分人数'，'当前小时二星评分人数'，'当前小时三星评分人数'，'当前小时四星评分人数'，'当前小时五星评分人数'\n",
    "del df['当前小时一星评分人数']\n",
    "del df['当前小时二星评分人数']\n",
    "del df['当前小时三星评分人数']\n",
    "del df['当前小时四星评分人数']\n",
    "del df['当前小时五星评分人数']\n",
    "\n",
    "# 8. 删除以转成one-hot编码的离散特征\n",
    "del df['时间']\n",
    "del df['weekday']\n",
    "del df['hour']\n",
    "del df['影片推广位等级']\n",
    "del df['推广位']\n",
    "del df['time_partition']\n",
    "\n",
    "# 9. 删除label\n",
    "del df['当前点击量']\n",
    "del df['新增点击量']"
   ]
  },
  {
   "cell_type": "code",
   "execution_count": 208,
   "metadata": {},
   "outputs": [],
   "source": [
    "# df.to_csv(\"./data/cleaned_df.csv\")"
   ]
  }
 ],
 "metadata": {
  "kernelspec": {
   "display_name": "Python 3",
   "language": "python",
   "name": "python3"
  },
  "language_info": {
   "codemirror_mode": {
    "name": "ipython",
    "version": 3
   },
   "file_extension": ".py",
   "mimetype": "text/x-python",
   "name": "python",
   "nbconvert_exporter": "python",
   "pygments_lexer": "ipython3",
   "version": "3.6.5"
  }
 },
 "nbformat": 4,
 "nbformat_minor": 2
}
