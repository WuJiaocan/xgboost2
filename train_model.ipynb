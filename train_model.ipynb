{
 "cells": [
  {
   "cell_type": "code",
   "execution_count": 11,
   "metadata": {},
   "outputs": [],
   "source": [
    "import pandas as pd"
   ]
  },
  {
   "cell_type": "markdown",
   "metadata": {},
   "source": [
    "### 1. 读取特征数据"
   ]
  },
  {
   "cell_type": "code",
   "execution_count": 12,
   "metadata": {},
   "outputs": [],
   "source": [
    "df = pd.read_csv(\"./data/cleaned_df.csv\", index_col=0)"
   ]
  },
  {
   "cell_type": "code",
   "execution_count": 13,
   "metadata": {},
   "outputs": [],
   "source": [
    "X_new_add_amount = df.values.tolist()"
   ]
  },
  {
   "cell_type": "code",
   "execution_count": 14,
   "metadata": {},
   "outputs": [
    {
     "data": {
      "text/plain": [
       "76"
      ]
     },
     "execution_count": 14,
     "metadata": {},
     "output_type": "execute_result"
    }
   ],
   "source": [
    "len(X_new_add_amount[0])"
   ]
  },
  {
   "cell_type": "code",
   "execution_count": 15,
   "metadata": {},
   "outputs": [
    {
     "data": {
      "text/plain": [
       "Index(['当前热度值', '新增热度值', '当前评论数', '新增评论数', '当前点赞数', '新增点赞数', '当前踩数', '新增踩数',\n",
       "       '当前评分数', '当前小时评分人数', '当日爱奇艺播放指数', 'time_interval', '巴晨旭', '郭靖', '朱锐斌',\n",
       "       '潘文杰', '薛少', '褚会林', '唐顺风', '干志文', '房映华', '崔俊杰', '张伟', '张浩', '李伟', '刘洋',\n",
       "       '王伟', '张涛', '张磊', '冯芷墨', 'is_weekday', 'VIP-电影', '无', '精选-电影', '电影-电影',\n",
       "       '电影-网大', 'VIP-焦点', '电影-焦点', 'Monday', 'Tuesday', 'Wednesday',\n",
       "       'Thursday', 'Friday', 'Saturday', 'Sunday', 'a', 'b', 'c', '0', '1',\n",
       "       '2', '00', '01', '02', '03', '04', '05', '06', '07', '08', '09', '10',\n",
       "       '11', '12', '13', '14', '15', '16', '17', '18', '19', '20', '21', '22',\n",
       "       '23', 'heat_value_window_size_6'],\n",
       "      dtype='object')"
      ]
     },
     "execution_count": 15,
     "metadata": {},
     "output_type": "execute_result"
    }
   ],
   "source": [
    "df.columns"
   ]
  },
  {
   "cell_type": "code",
   "execution_count": 16,
   "metadata": {},
   "outputs": [],
   "source": [
    "del df['新增热度值']\n",
    "del df['新增评论数']\n",
    "del df['新增点赞数']\n",
    "del df['新增踩数']"
   ]
  },
  {
   "cell_type": "code",
   "execution_count": 17,
   "metadata": {},
   "outputs": [],
   "source": [
    "X_total = df.values.tolist()"
   ]
  },
  {
   "cell_type": "code",
   "execution_count": 18,
   "metadata": {},
   "outputs": [
    {
     "data": {
      "text/plain": [
       "72"
      ]
     },
     "execution_count": 18,
     "metadata": {},
     "output_type": "execute_result"
    }
   ],
   "source": [
    "len(X_total[0])"
   ]
  },
  {
   "cell_type": "markdown",
   "metadata": {},
   "source": [
    "### 2. 读取label数据"
   ]
  },
  {
   "cell_type": "code",
   "execution_count": 19,
   "metadata": {},
   "outputs": [
    {
     "name": "stderr",
     "output_type": "stream",
     "text": [
      "/home/wujiaocan/anaconda3/lib/python3.6/site-packages/ipykernel_launcher.py:1: ParserWarning: Falling back to the 'python' engine because the 'c' engine does not support regex separators (separators > 1 char and different from '\\s+' are interpreted as regex); you can avoid this warning by specifying engine='python'.\n",
      "  \"\"\"Entry point for launching an IPython kernel.\n"
     ]
    }
   ],
   "source": [
    "d = pd.read_csv(\"./data/filter_time_data.txt_new\", sep=\"\\t\\t\", header=None)"
   ]
  },
  {
   "cell_type": "code",
   "execution_count": 20,
   "metadata": {},
   "outputs": [],
   "source": [
    "d.columns = ['电影ID', '时间', '当前热度值', '新增热度值', '当前点击量', '新增点击量', '当前评论数', '新增评论数', '当前点赞数', '新增点赞数',\n",
    "              '当前踩数', '新增踩数', '当前评分数', '推广位', '影片推广位等级', '当前小时弹幕数', '当前小时新增弹幕数', '当前小时评分人数',\n",
    "              '当前小时新增评分人数', '当前小时五星评分人数', '当前小时四星评分人数', '当前小时三星评分人数', '当前小时二星评分人数',\n",
    "              '当前小时一星评分人数', '当日爱奇艺播放指数', '影片上线时间', '导演', '编剧', '制片', '美术', '主演']"
   ]
  },
  {
   "cell_type": "code",
   "execution_count": 21,
   "metadata": {},
   "outputs": [],
   "source": [
    "y_new_add_amount = d['新增点击量'].values.tolist()\n",
    "y_total = d['当前点击量'].values.tolist()"
   ]
  },
  {
   "cell_type": "markdown",
   "metadata": {},
   "source": [
    "### 3. 模型训练"
   ]
  },
  {
   "cell_type": "markdown",
   "metadata": {},
   "source": [
    "#### 3.1 new add"
   ]
  },
  {
   "cell_type": "code",
   "execution_count": 21,
   "metadata": {
    "scrolled": true
   },
   "outputs": [
    {
     "name": "stdout",
     "output_type": "stream",
     "text": [
      "MSE: 2966867.5181915406\n",
      "RMSE: 1722.4597290478348\n"
     ]
    },
    {
     "data": {
      "image/png": "[encoded data removed]",
      "text/plain": [
       "<Figure size 432x288 with 1 Axes>"
      ]
     },
     "metadata": {},
     "output_type": "display_data"
    }
   ],
   "source": [
    "import xgboost as xgb\n",
    "from xgboost import plot_importance\n",
    "from matplotlib import pyplot as plt\n",
    "from sklearn.model_selection import train_test_split\n",
    "from sklearn import metrics\n",
    "import numpy as np\n",
    "%matplotlib inline\n",
    "\n",
    "#XGBoost训练过程\n",
    "X_train_1, X_test_1, y_train_1, y_test_1 = train_test_split(X_new_add_amount, y_new_add_amount,test_size=0.2, random_state=0)\n",
    "\n",
    "# model = xgb.XGBRegressor(max_depth=8, n_estimators=500, gamma=0.169, colsample_bytree=0.5)\n",
    "model_1 = xgb.XGBRegressor()\n",
    "model_1.fit(X_train_1, y_train_1)\n",
    "\n",
    "# 保存模型\n",
    "model_1.save_model(\"./models/new_add_1.model\")\n",
    "\n",
    "# # 对测试集进行预测\n",
    "ans_1 = model_1.predict(X_test_1)\n",
    "\n",
    "# # 显示误差\n",
    "print(\"MSE:\",metrics.mean_squared_error(y_test_1, ans_1))\n",
    "print(\"RMSE:\",np.sqrt(metrics.mean_squared_error(y_test_1, ans_1))) \n",
    "\n",
    "## 显示关键特征\n",
    "plot_importance(model_1)\n",
    "plt.show() "
   ]
  },
  {
   "cell_type": "code",
   "execution_count": 9,
   "metadata": {},
   "outputs": [
    {
     "name": "stdout",
     "output_type": "stream",
     "text": [
      "MSE: 2420431.2098291023\n",
      "RMSE: 1555.7735085252937\n"
     ]
    }
   ],
   "source": [
    "import xgboost as xgb\n",
    "from xgboost import plot_importance\n",
    "from matplotlib import pyplot as plt\n",
    "from sklearn.model_selection import train_test_split\n",
    "from sklearn import metrics\n",
    "import numpy as np\n",
    "%matplotlib inline\n",
    "\n",
    "#XGBoost训练过程\n",
    "X_train_2, X_test_2, y_train_2, y_test_2 = train_test_split(X_new_add_amount, y_new_add_amount,test_size=0.2, random_state=0)\n",
    "\n",
    "model_2 = xgb.XGBRegressor(max_depth=8, n_estimators=600, gamma=0.394, colsample_bytree=0.373, learning_rate=0.093)\n",
    "# model_1 = xgb.XGBRegressor()\n",
    "model_2.fit(X_train_2, y_train_2)\n",
    "\n",
    "# 保存模型\n",
    "model_2.save_model(\"./models/new_add_2.model\")\n",
    "\n",
    "# # 对测试集进行预测\n",
    "ans_2 = model_2.predict(X_test_2)\n",
    "\n",
    "# # 显示误差\n",
    "print(\"MSE:\",metrics.mean_squared_error(y_test_2, ans_2))\n",
    "print(\"RMSE:\",np.sqrt(metrics.mean_squared_error(y_test_2, ans_2))) \n",
    "\n",
    "## 显示关键特征\n",
    "# plot_importance(model_2)\n",
    "# plt.show() "
   ]
  },
  {
   "cell_type": "code",
   "execution_count": 23,
   "metadata": {},
   "outputs": [],
   "source": [
    "# 用所有的数据训练模型\n",
    "\n",
    "import xgboost as xgb\n",
    "from xgboost import plot_importance\n",
    "from matplotlib import pyplot as plt\n",
    "from sklearn.model_selection import train_test_split\n",
    "from sklearn import metrics\n",
    "import numpy as np\n",
    "%matplotlib inline\n",
    "\n",
    "#XGBoost训练过程\n",
    "# X_train_2, X_test_2, y_train_2, y_test_2 = train_test_split(X_new_add_amount, y_new_add_amount,test_size=0.2, random_state=0)\n",
    "\n",
    "model_3 = xgb.XGBRegressor(max_depth=8, n_estimators=600, gamma=0.394, colsample_bytree=0.373, learning_rate=0.093)\n",
    "\n",
    "model_3.fit(X_new_add_amount, y_new_add_amount)\n",
    "\n",
    "# 保存模型\n",
    "model_3.save_model(\"./models/new_add_3.model\")\n",
    "\n",
    "# # 对测试集进行预测\n",
    "# ans_2 = model_2.predict(X_test_2)\n",
    "\n",
    "# # # 显示误差\n",
    "# print(\"MSE:\",metrics.mean_squared_error(y_test_2, ans_2))\n",
    "# print(\"RMSE:\",np.sqrt(metrics.mean_squared_error(y_test_2, ans_2))) \n",
    "\n",
    "## 显示关键特征\n",
    "# plot_importance(model_2)\n",
    "# plt.show() "
   ]
  },
  {
   "cell_type": "code",
   "execution_count": 25,
   "metadata": {},
   "outputs": [],
   "source": [
    "# from sklearn.model_selection import KFold, train_test_split, GridSearchCV\n",
    "# from sklearn.metrics import confusion_matrix, mean_squared_error\n",
    "\n",
    "# kf = KFold(n_splits=10, shuffle=True)\n",
    "\n",
    "# for train_index, test_index in kf.split(X_new_add_amount):\n",
    "    \n",
    "#     xgb_model = xgb.XGBRegressor(max_depth=8, n_estimators=600, gamma=0.394, colsample_bytree=0.373, learning_rate=0.093).fit(X_new_add_amount[train_index], y_new_add_amount[train_index])\n",
    "    \n",
    "#     predictions = xgb_model.predict(X_new_add_amount[test_index])\n",
    "    \n",
    "#     actuals = y_new_add_amount[test_index]\n",
    "    \n",
    "#     print(\"RMSE:\", np.sqrt(mean_squared_error(actuals, predictions)))"
   ]
  },
  {
   "cell_type": "markdown",
   "metadata": {},
   "source": [
    "#### 3.2 total"
   ]
  },
  {
   "cell_type": "code",
   "execution_count": 22,
   "metadata": {},
   "outputs": [
    {
     "name": "stdout",
     "output_type": "stream",
     "text": [
      "MSE: 2773826364649.6865\n",
      "RMSE: 1665480.8208591556\n"
     ]
    }
   ],
   "source": [
    "import xgboost as xgb\n",
    "from xgboost import plot_importance\n",
    "from matplotlib import pyplot as plt\n",
    "from sklearn.model_selection import train_test_split\n",
    "from sklearn import metrics\n",
    "import numpy as np\n",
    "%matplotlib inline\n",
    "\n",
    "#XGBoost训练过程\n",
    "X_train_3, X_test_3, y_train_3, y_test_3 = train_test_split(X_total, y_total, test_size=0.2, random_state=0)\n",
    "\n",
    "# model_2 = xgb.XGBRegressor(max_depth=8, n_estimators=600, gamma=0.394, colsample_bytree=0.373, learning_rate=0.093)\n",
    "model_3 = xgb.XGBRegressor()\n",
    "model_3.fit(X_train_3, y_train_3)\n",
    "\n",
    "# 保存模型\n",
    "model_3.save_model(\"./models/total_1.model\")\n",
    "\n",
    "# # 对测试集进行预测\n",
    "ans_3 = model_3.predict(X_test_3)\n",
    "\n",
    "# # 显示误差\n",
    "print(\"MSE:\",metrics.mean_squared_error(y_test_3, ans_3))\n",
    "print(\"RMSE:\",np.sqrt(metrics.mean_squared_error(y_test_3, ans_3))) \n",
    "\n",
    "## 显示关键特征\n",
    "# plot_importance(model_2)\n",
    "# plt.show() "
   ]
  },
  {
   "cell_type": "code",
   "execution_count": 26,
   "metadata": {},
   "outputs": [],
   "source": [
    "import xgboost as xgb\n",
    "from xgboost import plot_importance\n",
    "from matplotlib import pyplot as plt\n",
    "from sklearn.model_selection import train_test_split\n",
    "from sklearn import metrics\n",
    "import numpy as np\n",
    "%matplotlib inline\n",
    "\n",
    "#XGBoost训练过程\n",
    "# X_train_3, X_test_3, y_train_3, y_test_3 = train_test_split(X_total, y_total, test_size=0.2, random_state=0)\n",
    "\n",
    "# model_2 = xgb.XGBRegressor(max_depth=8, n_estimators=600, gamma=0.394, colsample_bytree=0.373, learning_rate=0.093)\n",
    "model_4 = xgb.XGBRegressor()\n",
    "model_4.fit(X_total, y_total)\n",
    "\n",
    "# 保存模型\n",
    "model_4.save_model(\"./models/total_2.model\")\n",
    "\n",
    "# # 对测试集进行预测\n",
    "# ans_3 = model_3.predict(X_test_3)\n",
    "\n",
    "# # # 显示误差\n",
    "# print(\"MSE:\",metrics.mean_squared_error(y_test_3, ans_3))\n",
    "# print(\"RMSE:\",np.sqrt(metrics.mean_squared_error(y_test_3, ans_3))) \n",
    "\n",
    "## 显示关键特征\n",
    "# plot_importance(model_2)\n",
    "# plt.show() "
   ]
  },
  {
   "cell_type": "code",
   "execution_count": null,
   "metadata": {},
   "outputs": [],
   "source": []
  }
 ],
 "metadata": {
  "kernelspec": {
   "display_name": "Python 3",
   "language": "python",
   "name": "python3"
  },
  "language_info": {
   "codemirror_mode": {
    "name": "ipython",
    "version": 3
   },
   "file_extension": ".py",
   "mimetype": "text/x-python",
   "name": "python",
   "nbconvert_exporter": "python",
   "pygments_lexer": "ipython3",
   "version": "3.6.5"
  }
 },
 "nbformat": 4,
 "nbformat_minor": 2
}
